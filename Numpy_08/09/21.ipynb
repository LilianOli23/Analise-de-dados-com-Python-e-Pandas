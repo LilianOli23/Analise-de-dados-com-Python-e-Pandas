{
  "nbformat": 4,
  "nbformat_minor": 0,
  "metadata": {
    "colab": {
      "name": "Numpy.ipynb",
      "provenance": [],
      "authorship_tag": "ABX9TyN302rHIgGqkhCLwHki4ot+",
      "include_colab_link": true
    },
    "kernelspec": {
      "name": "python3",
      "display_name": "Python 3"
    },
    "language_info": {
      "name": "python"
    }
  },
  "cells": [
    {
      "cell_type": "markdown",
      "metadata": {
        "id": "view-in-github",
        "colab_type": "text"
      },
      "source": [
        "<a href=\"https://colab.research.google.com/github/LilianOli23/Analise-de-dados-com-Python-e-Pandas/blob/main/Numpy_08/09/21.ipynb\" target=\"_parent\"><img src=\"https://colab.research.google.com/assets/colab-badge.svg\" alt=\"Open In Colab\"/></a>"
      ]
    },
    {
      "cell_type": "code",
      "metadata": {
        "id": "4kukk6zdRKNZ"
      },
      "source": [
        "import numpy as np"
      ],
      "execution_count": null,
      "outputs": []
    },
    {
      "cell_type": "code",
      "metadata": {
        "colab": {
          "base_uri": "https://localhost:8080/"
        },
        "id": "Jlz5URiARZVL",
        "outputId": "f767e2a4-8520-4e31-8108-8f06123a4ab5"
      },
      "source": [
        "#cria uma matriz unidimensional usando numpy\n",
        "mt = np.array([12,34,26,18,10])\n",
        "print(mt)\n",
        "print(type(mt))"
      ],
      "execution_count": null,
      "outputs": [
        {
          "output_type": "stream",
          "name": "stdout",
          "text": [
            "[12 34 26 18 10]\n",
            "<class 'numpy.ndarray'>\n"
          ]
        }
      ]
    },
    {
      "cell_type": "code",
      "metadata": {
        "colab": {
          "base_uri": "https://localhost:8080/"
        },
        "id": "48A3DszSRkqG",
        "outputId": "ea1aea3d-c1c1-414b-e0f9-4b165985e11c"
      },
      "source": [
        "#criar array com tipo especifico\n",
        "#cria array como float de 64bits\n",
        "mtfloat = np.array([1,2,3], dtype = np.float64)\n",
        "print(mtfloat)\n",
        "print(type(mtfloat))\n",
        "mtint = np.array([1,2,3], dtype = np.int32)\n",
        "print(mtint)\n",
        "print(type(mtint))"
      ],
      "execution_count": null,
      "outputs": [
        {
          "output_type": "stream",
          "name": "stdout",
          "text": [
            "[1. 2. 3.]\n",
            "<class 'numpy.ndarray'>\n",
            "[1 2 3]\n",
            "<class 'numpy.ndarray'>\n"
          ]
        }
      ]
    },
    {
      "cell_type": "code",
      "metadata": {
        "colab": {
          "base_uri": "https://localhost:8080/"
        },
        "id": "DnoIzrfESCsS",
        "outputId": "48628639-0a1d-4e38-8888-af74eaf58239"
      },
      "source": [
        "#mudar o tipo de array\n",
        "#podemos transformar tipos de dados de arrays\n",
        "mtnew = np.array([1.4,3.6, -5.1, 9.42, 4.99999999])\n",
        "print(mtnew)\n",
        "#quando transformamos de float para int os valores são truncados\n",
        "mtnewint = mtnew.astype(np.int32)\n",
        "print(mtnewint)"
      ],
      "execution_count": null,
      "outputs": [
        {
          "output_type": "stream",
          "name": "stdout",
          "text": [
            "[ 1.4         3.6        -5.1         9.42        4.99999999]\n",
            "[ 1  3 -5  9  4]\n"
          ]
        }
      ]
    },
    {
      "cell_type": "code",
      "metadata": {
        "colab": {
          "base_uri": "https://localhost:8080/"
        },
        "id": "aSBsXQ3LSkiU",
        "outputId": "8935e4b3-3b87-4c53-a5b2-a7c175de0c8d"
      },
      "source": [
        "#podemos fazer o inverso também\n",
        "mt5 = np.array([1,2,3,4])\n",
        "print(mt5)\n",
        "mt6 = mt5.astype(float)\n",
        "print(mt6)"
      ],
      "execution_count": null,
      "outputs": [
        {
          "output_type": "stream",
          "name": "stdout",
          "text": [
            "[1 2 3 4]\n",
            "[1. 2. 3. 4.]\n"
          ]
        }
      ]
    },
    {
      "cell_type": "code",
      "metadata": {
        "colab": {
          "base_uri": "https://localhost:8080/"
        },
        "id": "hflTP9SmTMgW",
        "outputId": "cbf39cce-e688-4745-d50b-f2080ea690bc"
      },
      "source": [
        "#mais de uma dimensão\n",
        "#cria matrizes bidimensionais\n",
        "mt7 = np.array([[7,2,23],[12,27,4],[5,34,23]])\n",
        "print(mt7)"
      ],
      "execution_count": null,
      "outputs": [
        {
          "output_type": "stream",
          "name": "stdout",
          "text": [
            "[[ 7  2 23]\n",
            " [12 27  4]\n",
            " [ 5 34 23]]\n"
          ]
        }
      ]
    },
    {
      "cell_type": "code",
      "metadata": {
        "colab": {
          "base_uri": "https://localhost:8080/"
        },
        "id": "YUvkASM-TlWY",
        "outputId": "6d7cb739-8dcc-4525-e41c-ced1598b3322"
      },
      "source": [
        "#criar arrays vazios tipificados\n",
        "#empty significa que nao sao inicializados, nao que sao vazias\n",
        "vazio = np.empty([3,2], dtype = int)\n",
        "print(vazio)\n",
        "print(\"-----------\")\n",
        "#cria uma matriz 4X3 com valores zero\n",
        "zeros = np.zeros([4,3])\n",
        "print(zeros)\n",
        "print(\"-----------\")\n",
        "um = np.ones([5,7])\n",
        "print(um)\n",
        "print(\"-----------\")\n",
        "#cria matriz quadrada com diagonal principal com valores 1 e os outros valores zero\n",
        "diagonal = np.eye(5)\n",
        "print(diagonal)"
      ],
      "execution_count": null,
      "outputs": [
        {
          "output_type": "stream",
          "name": "stdout",
          "text": [
            "[[94726891830688              0]\n",
            " [             0              0]\n",
            " [             0              0]]\n",
            "-----------\n",
            "[[0. 0. 0.]\n",
            " [0. 0. 0.]\n",
            " [0. 0. 0.]\n",
            " [0. 0. 0.]]\n",
            "-----------\n",
            "[[1. 1. 1. 1. 1. 1. 1.]\n",
            " [1. 1. 1. 1. 1. 1. 1.]\n",
            " [1. 1. 1. 1. 1. 1. 1.]\n",
            " [1. 1. 1. 1. 1. 1. 1.]\n",
            " [1. 1. 1. 1. 1. 1. 1.]]\n",
            "-----------\n",
            "[[1. 0. 0. 0. 0.]\n",
            " [0. 1. 0. 0. 0.]\n",
            " [0. 0. 1. 0. 0.]\n",
            " [0. 0. 0. 1. 0.]\n",
            " [0. 0. 0. 0. 1.]]\n"
          ]
        }
      ]
    },
    {
      "cell_type": "code",
      "metadata": {
        "colab": {
          "base_uri": "https://localhost:8080/"
        },
        "id": "RqsU3MChUcQe",
        "outputId": "f2493bf2-1234-48ce-ead2-40009875df40"
      },
      "source": [
        "#valores aleatorios entre 0 e 1\n",
        "ale = np.random.random((5))\n",
        "print(ale)\n",
        "print(\"-----------\")\n",
        "#valores aleatorios distr normal contendo negativos\n",
        "ale2 = np.random.randn((5))\n",
        "print(ale2)\n",
        "print(\"-----------\")\n",
        "#valores aleatorios 3X4\n",
        "ale3 = (10*np.random.random((3,4)))\n",
        "print(ale3)"
      ],
      "execution_count": null,
      "outputs": [
        {
          "output_type": "stream",
          "name": "stdout",
          "text": [
            "[0.99430032 0.6631325  0.24210747 0.50044319 0.7593528 ]\n",
            "-----------\n",
            "[-1.26088814 -1.19346058  0.41003621 -0.37693505 -0.81274361]\n",
            "-----------\n",
            "[[9.84580007 6.40380604 0.18198862 0.78928209]\n",
            " [4.51886779 2.77624658 8.09069541 1.31803273]\n",
            " [0.34812221 2.6515459  5.18549588 1.50637073]]\n"
          ]
        }
      ]
    },
    {
      "cell_type": "code",
      "metadata": {
        "colab": {
          "base_uri": "https://localhost:8080/"
        },
        "id": "oNmSyvtmVaEM",
        "outputId": "5d1ef22e-0131-46bb-a059-e6c9bd3ca7ae"
      },
      "source": [
        "#outra forma de gerar aleatorios \n",
        "#uso de semente\n",
        "gnr = np.random.default_rng(1)\n",
        "ale5 = gnr.random(3)\n",
        "print(ale5)\n",
        "\n",
        "#gerar inteiros\n",
        "ale6 = gnr.integers(10, size=(3,4))\n",
        "print(ale6)"
      ],
      "execution_count": null,
      "outputs": [
        {
          "output_type": "stream",
          "name": "stdout",
          "text": [
            "[0.51182162 0.9504637  0.14415961]\n",
            "[[8 9 2 3]\n",
            " [8 4 2 8]\n",
            " [2 4 6 5]]\n"
          ]
        }
      ]
    },
    {
      "cell_type": "code",
      "metadata": {
        "colab": {
          "base_uri": "https://localhost:8080/"
        },
        "id": "UJvxo-yNWj_3",
        "outputId": "7c7e5e8a-04e4-4f57-f173-1de0aa627d66"
      },
      "source": [
        "#unique remove repeticoes\n",
        "j = np.array([11,12,13,14,15,16,17,12,13,11,18,19,20])\n",
        "j = np.unique(j)\n",
        "print(j)"
      ],
      "execution_count": null,
      "outputs": [
        {
          "output_type": "stream",
          "name": "stdout",
          "text": [
            "[11 12 13 14 15 16 17 18 19 20]\n"
          ]
        }
      ]
    },
    {
      "cell_type": "code",
      "metadata": {
        "colab": {
          "base_uri": "https://localhost:8080/"
        },
        "id": "nPUy9pgxXsS4",
        "outputId": "1ba0e0aa-672b-4e2e-f8a3-cf5a789209e5"
      },
      "source": [
        "#funcoes especificas\n",
        "#cria a matriz bidimensional k\n",
        "k = np.array([[17,22,43],[27,25,14],[15,24,32]])\n",
        "#Matriz k\n",
        "print(k)\n",
        "#mostra elemento especifico da matriz k\n",
        "print(k[0][1])\n",
        "#mostra o tamanho das dimensoes da matriz k\n",
        "print(k.shape)"
      ],
      "execution_count": null,
      "outputs": [
        {
          "output_type": "stream",
          "name": "stdout",
          "text": [
            "[[17 22 43]\n",
            " [27 25 14]\n",
            " [15 24 32]]\n",
            "22\n",
            "(3, 3)\n"
          ]
        }
      ]
    },
    {
      "cell_type": "code",
      "metadata": {
        "colab": {
          "base_uri": "https://localhost:8080/"
        },
        "id": "yESyTKBBYKdO",
        "outputId": "16099e13-8101-4393-e917-e36a8fa40bf7"
      },
      "source": [
        "#funcoes matematicas\n",
        "#mostra o maior valor da matriz k\n",
        "print(k.max())\n",
        "#mostra o menor valor da matri k\n",
        "print(k.min())\n",
        "#mostra a soma dos valores da matriz k\n",
        "print(k.sum())\n",
        "#mostra o valor da média dos valores da matriz k\n",
        "print(k.mean())\n",
        "#mostra o valor do desvio padrão(standard deviation) dos valores da matriz k\n",
        "print(k.std())"
      ],
      "execution_count": null,
      "outputs": [
        {
          "output_type": "stream",
          "name": "stdout",
          "text": [
            "43\n",
            "14\n",
            "219\n",
            "24.333333333333332\n",
            "8.615231988880057\n"
          ]
        }
      ]
    },
    {
      "cell_type": "code",
      "metadata": {
        "colab": {
          "base_uri": "https://localhost:8080/"
        },
        "id": "vibq33GsYp6q",
        "outputId": "f97c7658-756a-41f2-8433-d597702fff99"
      },
      "source": [
        "#funcoes universais aplicadas a todos os elementos\n",
        "#mostra o valor da raiz quadrada de todos os elementos\n",
        "k1 = np.array([1,4,9,16,25,36])\n",
        "print(np.sqrt(k1))\n",
        "#Mostra o valor do exponencial de todos os elementos\n",
        "print(np.exp(k1))"
      ],
      "execution_count": null,
      "outputs": [
        {
          "output_type": "stream",
          "name": "stdout",
          "text": [
            "[1. 2. 3. 4. 5. 6.]\n",
            "[2.71828183e+00 5.45981500e+01 8.10308393e+03 8.88611052e+06\n",
            " 7.20048993e+10 4.31123155e+15]\n"
          ]
        }
      ]
    },
    {
      "cell_type": "code",
      "metadata": {
        "colab": {
          "base_uri": "https://localhost:8080/"
        },
        "id": "E8e2u4BYY-nD",
        "outputId": "2ed31ca0-6974-4461-e296-b0f8ed837214"
      },
      "source": [
        "#extracao de elementos\n",
        "m = np.array([1,2,3,4,5,6])\n",
        "#mostra o elemento da posicao 2\n",
        "print(m[1])\n",
        "print(\"------------\")\n",
        "#mostra o array criado a partir da posicao 0, dois elementos\n",
        "print(m[0:2])\n",
        "print(\"------------\")\n",
        "#mostra o array criado a partir da 2a posicao\n",
        "#até todo o restante do array\n",
        "print(m[1:])\n",
        "print(\"------------\")\n",
        "#mostra o array craido a partir da antepenultima\n",
        "#posicao até o final\n",
        "print(m[-3:])"
      ],
      "execution_count": null,
      "outputs": [
        {
          "output_type": "stream",
          "name": "stdout",
          "text": [
            "2\n",
            "------------\n",
            "[1 2]\n",
            "------------\n",
            "[2 3 4 5 6]\n",
            "------------\n",
            "[4 5 6]\n"
          ]
        }
      ]
    },
    {
      "cell_type": "code",
      "metadata": {
        "colab": {
          "base_uri": "https://localhost:8080/"
        },
        "id": "HE8d2mAXbAcf",
        "outputId": "8f34c813-93e4-4e12-b210-4cc1bb481ba9"
      },
      "source": [
        "#extracao de linhas e colunas\n",
        "l = np.array([[4,5],[6,1],[7,4]])\n",
        "print(l)\n",
        "print(\"------------\")\n",
        "#primeira linha todas as colunas\n",
        "l_linha_1 = l[0, :]\n",
        "print(l_linha_1)\n",
        "print(\"------------\")\n",
        "#segunda linha\n",
        "l_linha_2 = l[1, :]\n",
        "print(l_linha_2)\n",
        "print(\"------------\")\n",
        "#terceira linha\n",
        "l_linha_3 = l[2, :]\n",
        "print(l_linha_3)\n",
        "print(\"------------\")\n",
        "#todas as linhas, primeira coluna\n",
        "l_coluna_1 = l[:, 0]\n",
        "print(l_coluna_1)\n",
        "print(\"------------\")\n",
        "#todas as linhas, segunda coluna\n",
        "l_coluna_2 = l[:, 1]\n",
        "print(l_coluna_2)"
      ],
      "execution_count": null,
      "outputs": [
        {
          "output_type": "stream",
          "name": "stdout",
          "text": [
            "[[4 5]\n",
            " [6 1]\n",
            " [7 4]]\n",
            "------------\n",
            "[4 5]\n",
            "------------\n",
            "[6 1]\n",
            "------------\n",
            "[7 4]\n",
            "------------\n",
            "[4 6 7]\n",
            "------------\n",
            "[5 1 4]\n"
          ]
        }
      ]
    },
    {
      "cell_type": "code",
      "metadata": {
        "colab": {
          "base_uri": "https://localhost:8080/"
        },
        "id": "cpP7NPv4cv5c",
        "outputId": "fbedb02f-a2b0-4c23-f02f-8f28780ddef1"
      },
      "source": [
        "#adicao e multiplicacao de matrizes\n",
        "n = np.array([[1,2],[3,4]])\n",
        "o = np.array([[1,1],[1,1]])\n",
        "res1 = n+o\n",
        "print(res1)\n",
        "print(\"------------\")\n",
        "res2 = n*o\n",
        "print(res2)\n",
        "print(\"------------\")\n",
        "p = np.array([[1,2],[3,4],[5,6]])\n",
        "q = np.array([[2,1]])\n",
        "print(p+q)"
      ],
      "execution_count": null,
      "outputs": [
        {
          "output_type": "stream",
          "name": "stdout",
          "text": [
            "[[2 3]\n",
            " [4 5]]\n",
            "------------\n",
            "[[1 2]\n",
            " [3 4]]\n",
            "------------\n",
            "[[3 3]\n",
            " [5 5]\n",
            " [7 7]]\n"
          ]
        }
      ]
    },
    {
      "cell_type": "code",
      "metadata": {
        "colab": {
          "base_uri": "https://localhost:8080/"
        },
        "id": "O2iJotDjdWC1",
        "outputId": "ecec522f-2cb1-42d1-ef93-bf1a0db9d90e"
      },
      "source": [
        "#transposicao, rearranja um conjunto de 15 elementos de 0 a 14\n",
        "# em 3 linhas e 5 colunas\n",
        "f = np.arange(15).reshape((3,5))\n",
        "#mostra a matriz transposta entre linha e coluana\n",
        "print(f)\n",
        "print(\"------------\")\n",
        "s = f.T\n",
        "print(s)"
      ],
      "execution_count": null,
      "outputs": [
        {
          "output_type": "stream",
          "name": "stdout",
          "text": [
            "[[ 0  1  2  3  4]\n",
            " [ 5  6  7  8  9]\n",
            " [10 11 12 13 14]]\n",
            "------------\n",
            "[[ 0  5 10]\n",
            " [ 1  6 11]\n",
            " [ 2  7 12]\n",
            " [ 3  8 13]\n",
            " [ 4  9 14]]\n"
          ]
        }
      ]
    },
    {
      "cell_type": "code",
      "metadata": {
        "colab": {
          "base_uri": "https://localhost:8080/"
        },
        "id": "UXA5aZNIdwHh",
        "outputId": "cd63e94e-2a80-47fc-e932-2691f438c085"
      },
      "source": [
        "#outra forma de fazer, mesmo resultado\n",
        "r = np.arange(15).reshape((3,5))\n",
        "print(r)\n",
        "print(\"------------\")\n",
        "#rearranja um conjunto de 15 elementos\n",
        "#mostra matrizes transpostas entre linha e coluna\n",
        "s = r.transpose((1,0))\n",
        "print(s)"
      ],
      "execution_count": null,
      "outputs": [
        {
          "output_type": "stream",
          "name": "stdout",
          "text": [
            "[[ 0  1  2  3  4]\n",
            " [ 5  6  7  8  9]\n",
            " [10 11 12 13 14]]\n",
            "------------\n",
            "[[ 0  5 10]\n",
            " [ 1  6 11]\n",
            " [ 2  7 12]\n",
            " [ 3  8 13]\n",
            " [ 4  9 14]]\n"
          ]
        }
      ]
    },
    {
      "cell_type": "code",
      "metadata": {
        "colab": {
          "base_uri": "https://localhost:8080/"
        },
        "id": "DTeFXog4e5nb",
        "outputId": "3d738165-2156-4046-c527-76e47240d512"
      },
      "source": [
        "#expressoes logicas\n",
        "#usando where\n",
        "#criando matriz com valores aleatorios positivos e negativos\n",
        "v = np.random.randn(4,4)\n",
        "print(v)\n",
        "#criando matriz com valores booleanos baseados no array v\n",
        "x = (v>0)\n",
        "print(x)\n",
        "#criando matriz com calores -1 e 1 baseado nos valores do array x\n",
        "z = np.where(x > 0, 1, -1)\n",
        "print(z)\n"
      ],
      "execution_count": null,
      "outputs": [
        {
          "output_type": "stream",
          "name": "stdout",
          "text": [
            "[[ 0.80747431 -1.52190291 -1.19859386  1.12209048]\n",
            " [ 1.05354542 -0.33074608 -1.25709594  2.3787144 ]\n",
            " [-1.09306412  1.16972411 -0.18921087 -0.74293906]\n",
            " [-0.4684543  -0.53671783  0.90852739 -1.43160087]]\n",
            "[[ True False False  True]\n",
            " [ True False False  True]\n",
            " [False  True False False]\n",
            " [False False  True False]]\n",
            "[[ 1 -1 -1  1]\n",
            " [ 1 -1 -1  1]\n",
            " [-1  1 -1 -1]\n",
            " [-1 -1  1 -1]]\n"
          ]
        }
      ]
    },
    {
      "cell_type": "code",
      "metadata": {
        "id": "WA_YgrScfhRE"
      },
      "source": [
        ""
      ],
      "execution_count": null,
      "outputs": []
    }
  ]
}