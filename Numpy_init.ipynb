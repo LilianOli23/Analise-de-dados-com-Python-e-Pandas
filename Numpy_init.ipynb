{
  "nbformat": 4,
  "nbformat_minor": 0,
  "metadata": {
    "colab": {
      "name": "Numpy_init.ipynb",
      "provenance": [],
      "authorship_tag": "ABX9TyPoExc7xwUHu6Brn1Swr859",
      "include_colab_link": true
    },
    "kernelspec": {
      "name": "python3",
      "display_name": "Python 3"
    },
    "language_info": {
      "name": "python"
    }
  },
  "cells": [
    {
      "cell_type": "markdown",
      "metadata": {
        "id": "view-in-github",
        "colab_type": "text"
      },
      "source": [
        "<a href=\"https://colab.research.google.com/github/LilianOli23/Analise-de-dados-com-Python-e-Pandas/blob/main/Numpy_init.ipynb\" target=\"_parent\"><img src=\"https://colab.research.google.com/assets/colab-badge.svg\" alt=\"Open In Colab\"/></a>"
      ]
    },
    {
      "cell_type": "code",
      "metadata": {
        "id": "5xPeMjMRMs6i"
      },
      "source": [
        "import numpy as np"
      ],
      "execution_count": 1,
      "outputs": []
    },
    {
      "cell_type": "code",
      "metadata": {
        "colab": {
          "base_uri": "https://localhost:8080/"
        },
        "id": "30z3IMGVMu4-",
        "outputId": "ed7b29a0-488c-43f3-829a-ad21dde703e4"
      },
      "source": [
        "#cria uma matriz unidimensional\n",
        "a = np.array([12,34,26,18,10])\n",
        "print(a)\n",
        "print(a.dtype)"
      ],
      "execution_count": 2,
      "outputs": [
        {
          "output_type": "stream",
          "name": "stdout",
          "text": [
            "[12 34 26 18 10]\n",
            "int64\n"
          ]
        }
      ]
    },
    {
      "cell_type": "code",
      "metadata": {
        "colab": {
          "base_uri": "https://localhost:8080/"
        },
        "id": "se1SvmgTM8Sg",
        "outputId": "81a185d5-47fd-4a1b-b4bf-68ca16c78703"
      },
      "source": [
        "#dicionarios estruturas chave/valor\n",
        "notas = {'Joao': 6.0, 'Maria': 8.0, 'Pedro':6.5}\n",
        "print(notas)"
      ],
      "execution_count": 3,
      "outputs": [
        {
          "output_type": "stream",
          "name": "stdout",
          "text": [
            "{'Joao': 6.0, 'Maria': 8.0, 'Pedro': 6.5}\n"
          ]
        }
      ]
    },
    {
      "cell_type": "code",
      "metadata": {
        "colab": {
          "base_uri": "https://localhost:8080/"
        },
        "id": "hmKM34wTOSbf",
        "outputId": "d0e06ced-019c-45f6-8563-ba0c341d60b2"
      },
      "source": [
        "print(notas['Joao'])"
      ],
      "execution_count": 4,
      "outputs": [
        {
          "output_type": "stream",
          "name": "stdout",
          "text": [
            "6.0\n"
          ]
        }
      ]
    },
    {
      "cell_type": "code",
      "metadata": {
        "colab": {
          "base_uri": "https://localhost:8080/"
        },
        "id": "AQbqNzZCOVHt",
        "outputId": "dbc2312a-4222-4f82-e803-33817ff4a9d9"
      },
      "source": [
        "notas.keys()"
      ],
      "execution_count": 6,
      "outputs": [
        {
          "output_type": "execute_result",
          "data": {
            "text/plain": [
              "dict_keys(['Joao', 'Maria', 'Pedro'])"
            ]
          },
          "metadata": {},
          "execution_count": 6
        }
      ]
    },
    {
      "cell_type": "code",
      "metadata": {
        "colab": {
          "base_uri": "https://localhost:8080/"
        },
        "id": "hm9RmlrtOXdx",
        "outputId": "513c78ac-fb5c-4143-85cf-49bead280a7e"
      },
      "source": [
        "notas.values()"
      ],
      "execution_count": 8,
      "outputs": [
        {
          "output_type": "execute_result",
          "data": {
            "text/plain": [
              "dict_values([6.0, 8.0, 6.5])"
            ]
          },
          "metadata": {},
          "execution_count": 8
        }
      ]
    },
    {
      "cell_type": "code",
      "metadata": {
        "colab": {
          "base_uri": "https://localhost:8080/"
        },
        "id": "t5kzVDOqOfZU",
        "outputId": "a2e85b55-09ba-424b-c3d2-e08231a48477"
      },
      "source": [
        "#testa logicamente a existencia\n",
        "print('Joao' in notas)\n",
        "print('Fernando' in notas)"
      ],
      "execution_count": 9,
      "outputs": [
        {
          "output_type": "stream",
          "name": "stdout",
          "text": [
            "True\n",
            "False\n"
          ]
        }
      ]
    },
    {
      "cell_type": "code",
      "metadata": {
        "colab": {
          "base_uri": "https://localhost:8080/"
        },
        "id": "Zud1jHaxOx7V",
        "outputId": "ab0163ac-0558-4814-e44a-9830ce721017"
      },
      "source": [
        "#apaga um elemento\n",
        "del notas['Joao']\n",
        "print(notas)"
      ],
      "execution_count": 11,
      "outputs": [
        {
          "output_type": "stream",
          "name": "stdout",
          "text": [
            "{'Maria': 8.0, 'Pedro': 6.5}\n"
          ]
        }
      ]
    },
    {
      "cell_type": "code",
      "metadata": {
        "colab": {
          "base_uri": "https://localhost:8080/"
        },
        "id": "4gUQrM2_O3wl",
        "outputId": "eb14afd6-a632-49f7-93e8-4d38244934b2"
      },
      "source": [
        "#inclui um elemento\n",
        "notas['Ana'] = 0\n",
        "print(notas)\n"
      ],
      "execution_count": 12,
      "outputs": [
        {
          "output_type": "stream",
          "name": "stdout",
          "text": [
            "{'Maria': 8.0, 'Pedro': 6.5, 'Ana': 0}\n"
          ]
        }
      ]
    },
    {
      "cell_type": "code",
      "metadata": {
        "colab": {
          "base_uri": "https://localhost:8080/",
          "height": 35
        },
        "id": "UsKLVe_8PCLT",
        "outputId": "3b63781b-98d8-4ace-c201-970d51cc1d5a"
      },
      "source": [
        "#busca um valor, e se nao encontrar mostra um segundo parametro\n",
        "notas.get('Geraldo', 'Não encontrado!')"
      ],
      "execution_count": 13,
      "outputs": [
        {
          "output_type": "execute_result",
          "data": {
            "application/vnd.google.colaboratory.intrinsic+json": {
              "type": "string"
            },
            "text/plain": [
              "'Não encontrado!'"
            ]
          },
          "metadata": {},
          "execution_count": 13
        }
      ]
    },
    {
      "cell_type": "code",
      "metadata": {
        "colab": {
          "base_uri": "https://localhost:8080/"
        },
        "id": "Ezf9yp6DPLVh",
        "outputId": "007a65bf-3468-4d3d-b1cd-5f685ec4827b"
      },
      "source": [
        "bigdata = {'Spark','Hive','Sqoop'}\n",
        "print(bigdata)"
      ],
      "execution_count": 14,
      "outputs": [
        {
          "output_type": "stream",
          "name": "stdout",
          "text": [
            "{'Sqoop', 'Spark', 'Hive'}\n"
          ]
        }
      ]
    },
    {
      "cell_type": "code",
      "metadata": {
        "colab": {
          "base_uri": "https://localhost:8080/"
        },
        "id": "Z5XwB6oBPiqM",
        "outputId": "d160b149-8d38-480c-8c0e-931c92919412"
      },
      "source": [
        "#verifica existencia\n",
        "print('Spark' in bigdata)"
      ],
      "execution_count": 15,
      "outputs": [
        {
          "output_type": "stream",
          "name": "stdout",
          "text": [
            "True\n"
          ]
        }
      ]
    },
    {
      "cell_type": "code",
      "metadata": {
        "colab": {
          "base_uri": "https://localhost:8080/"
        },
        "id": "MkbIrGwQPn9-",
        "outputId": "69e091a0-7ad7-4fe5-e235-1c4bc3625a9a"
      },
      "source": [
        "#adiciona elemento\n",
        "bigdata.add('Hadoop')\n",
        "bigdata"
      ],
      "execution_count": 16,
      "outputs": [
        {
          "output_type": "execute_result",
          "data": {
            "text/plain": [
              "{'Hadoop', 'Hive', 'Spark', 'Sqoop'}"
            ]
          },
          "metadata": {},
          "execution_count": 16
        }
      ]
    },
    {
      "cell_type": "code",
      "metadata": {
        "colab": {
          "base_uri": "https://localhost:8080/"
        },
        "id": "enS4h8YcPunG",
        "outputId": "757afcc7-23f1-4b14-e081-97af409f9da3"
      },
      "source": [
        "print(len(bigdata))"
      ],
      "execution_count": 17,
      "outputs": [
        {
          "output_type": "stream",
          "name": "stdout",
          "text": [
            "4\n"
          ]
        }
      ]
    },
    {
      "cell_type": "code",
      "metadata": {
        "colab": {
          "base_uri": "https://localhost:8080/"
        },
        "id": "djM1lnOyQGUF",
        "outputId": "cae3f192-490e-4190-e893-262f379e3d94"
      },
      "source": [
        "#tiplas sao listas que nao podem ser alteradas\n",
        "#listas usam [] e tuplas usam ()\n",
        "tupla = (1,2,3,4,5,6,7)\n",
        "tupla"
      ],
      "execution_count": 18,
      "outputs": [
        {
          "output_type": "execute_result",
          "data": {
            "text/plain": [
              "(1, 2, 3, 4, 5, 6, 7)"
            ]
          },
          "metadata": {},
          "execution_count": 18
        }
      ]
    },
    {
      "cell_type": "code",
      "metadata": {
        "colab": {
          "base_uri": "https://localhost:8080/"
        },
        "id": "TprzBCmcQXCC",
        "outputId": "bf2567f6-b764-4923-e37f-7e71fb53455c"
      },
      "source": [
        "#dicionarios em que cada posicao recebe uma tupla\n",
        "dic2 = {(0,1):0, (1,2):1, (2,3):2, (3,4):3, (4,5):4, (5,6):5, (6,7):6, (7,8):7, (8,9):8, (9,10):9}\n",
        "dic2"
      ],
      "execution_count": 19,
      "outputs": [
        {
          "output_type": "execute_result",
          "data": {
            "text/plain": [
              "{(0, 1): 0,\n",
              " (1, 2): 1,\n",
              " (2, 3): 2,\n",
              " (3, 4): 3,\n",
              " (4, 5): 4,\n",
              " (5, 6): 5,\n",
              " (6, 7): 6,\n",
              " (7, 8): 7,\n",
              " (8, 9): 8,\n",
              " (9, 10): 9}"
            ]
          },
          "metadata": {},
          "execution_count": 19
        }
      ]
    },
    {
      "cell_type": "code",
      "metadata": {
        "colab": {
          "base_uri": "https://localhost:8080/"
        },
        "id": "-lRI08a8Qzl2",
        "outputId": "93c9cde5-1c69-455d-8994-2d6a998ff297"
      },
      "source": [
        "print(type(notas))\n",
        "print(type(bigdata))\n",
        "print(type(tupla))"
      ],
      "execution_count": 20,
      "outputs": [
        {
          "output_type": "stream",
          "name": "stdout",
          "text": [
            "<class 'dict'>\n",
            "<class 'set'>\n",
            "<class 'tuple'>\n"
          ]
        }
      ]
    },
    {
      "cell_type": "code",
      "metadata": {
        "id": "fzABXLU6Q7z0"
      },
      "source": [
        ""
      ],
      "execution_count": null,
      "outputs": []
    }
  ]
}